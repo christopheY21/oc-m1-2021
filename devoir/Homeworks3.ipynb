{
 "cells": [
  {
   "cell_type": "code",
   "execution_count": 1,
   "id": "c576bd17",
   "metadata": {},
   "outputs": [
    {
     "name": "stdout",
     "output_type": "stream",
     "text": [
      "[((0, 1), (1, 0), (1, 1)), ((0, 0), (1, 0), (1, 1)), ((0, 0), (0, 1), (1, 0)), ((0, 0), (0, 1), (1, 1))]\n",
      "4\n"
     ]
    }
   ],
   "source": [
    "import mip\n",
    "import sys\n",
    "class Pavage:\n",
    "    def __init__(self,x,y) -> None:\n",
    "        self.x=x\n",
    "        self.y=y\n",
    "        self.cases=[]\n",
    "        \n",
    "        self.tripletList=[]\n",
    "        #Filling Cases\n",
    "        for i in range(x):\n",
    "            for j in  range(y):\n",
    "                self.cases.append((i,j))\n",
    "        self.casesWeight=[0 for i in self.cases]\n",
    "        #Filling tripletSet\n",
    "        for a in range(len(self.cases)):\n",
    "            for b in range(len(self.cases)):\n",
    "                for c in range(len(self.cases)):\n",
    "                    if(a!=b and b!=c):\n",
    "                        stepToOthersCasesB=abs(self.cases[a][0]-self.cases[b][0])+abs(self.cases[a][1]-self.cases[b][1])\n",
    "                        stepToOtherCasesC=abs(self.cases[a][0]-self.cases[c][0])+abs(self.cases[a][1]-self.cases[c][1])\n",
    "                        if(stepToOthersCasesB==1 and stepToOtherCasesC==1):#a b c sont voisins\n",
    "                            triplet=[list(self.cases[a]),list(self.cases[b]),list(self.cases[c])]\n",
    "                            triplet.sort()\n",
    "                            self.tripletList.append((tuple(triplet[0]),tuple(triplet[1]),tuple(triplet[2])))\n",
    "        self.tripletSet=set(self.tripletList)\n",
    "        self.tripletList=list(self.tripletSet)\n",
    "        self.tripletVariable=[0 for i in self.tripletList]\n",
    "\n",
    "pavage=Pavage(2,2)\n",
    "print(pavage.tripletList)\n",
    "print(len(pavage.tripletList))\n",
    "\n"
   ]
  },
  {
   "cell_type": "code",
   "execution_count": 4,
   "id": "a0c64519",
   "metadata": {},
   "outputs": [],
   "source": [
    "def solve(pavage):\n",
    "    m=mip.Model()\n",
    "    n=pavage.x\n",
    "    p=pavage.y\n",
    "    contraintes=[]#Initialisation du talbeau de contraintes\n",
    "    for i in range(n):\n",
    "        for j in  range(p):\n",
    "           contraintes.append([])\n",
    "    #Création des variables\n",
    "    #Variables sur toutes les tuiles\n",
    "    tuilesWeight=[]\n",
    "    for triplet in pavage.tripletList:\n",
    "        tuilesWeight.append(len(triplet))\n",
    "    varX=[]\n",
    "    indice=0\n",
    "    for x in pavage.tripletList:\n",
    "        varIntermediaire=m.add_var(var_type=mip.BINARY, name=(\"varX\"+str(indice)))\n",
    "        varX.append(varIntermediaire)\n",
    "        for triplet in x:\n",
    "            contraintes[triplet[1]][triplet[0]].append(varIntermediaire)\n",
    "        indice+=1\n",
    "    for i in range(len(contraintes)):\n",
    "        for j in range(len(contraintes[i])):\n",
    "            m += mip.xsum(contraintes[i][j]) <= 1\n",
    "    m.objective = mip.maximize(mip.xsum(varX[i]*tuilesWeight[i] for i in range(len(varX))))\n",
    "    maximal=m.optimize(max_seconds=60)\n",
    "    print(maximal)\n",
    "    return m"
   ]
  },
  {
   "cell_type": "code",
   "execution_count": null,
   "id": "a86104d9",
   "metadata": {},
   "outputs": [],
   "source": []
  }
 ],
 "metadata": {
  "kernelspec": {
   "display_name": "Python 3 (ipykernel)",
   "language": "python",
   "name": "python3"
  },
  "language_info": {
   "codemirror_mode": {
    "name": "ipython",
    "version": 3
   },
   "file_extension": ".py",
   "mimetype": "text/x-python",
   "name": "python",
   "nbconvert_exporter": "python",
   "pygments_lexer": "ipython3",
   "version": "3.8.3"
  }
 },
 "nbformat": 4,
 "nbformat_minor": 5
}
